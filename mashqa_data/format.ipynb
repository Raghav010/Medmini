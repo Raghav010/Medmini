{
 "cells": [
  {
   "cell_type": "code",
   "execution_count": 11,
   "metadata": {},
   "outputs": [],
   "source": [
    "import os\n",
    "import json\n",
    "import pandas as pd"
   ]
  },
  {
   "cell_type": "code",
   "execution_count": 14,
   "metadata": {},
   "outputs": [],
   "source": [
    "# pick out some data from json file and make a new json\n",
    "def make_json(path):\n",
    "    with open('{}'.format(path), 'r') as f:\n",
    "        data = json.load(f)\n",
    "    data = data['data']\n",
    "    new_data = []\n",
    "    for i in range(len(data)):\n",
    "        para = data[i]['paragraphs']\n",
    "        for j in range(len(para)):\n",
    "            # context = para[j]['context']\n",
    "            # sentences = para[j]['sent_list']\n",
    "            qna = []\n",
    "            for k in range(len(para[j]['qas'])):\n",
    "                d = {}\n",
    "                d['question'] = para[j]['qas'][k]['question']\n",
    "                d['answers'] = para[j]['qas'][k]['answers'][0]['text']\n",
    "                qna.append(d)\n",
    "            # new_data.append({'context': context, 'sentences': sentences, 'qna': qna})\n",
    "                new_data.append(d)\n",
    "        # new_data.append({'id': data[i]['id'], 'title': data[i]['title'], 'content': data[i]['content']})\n",
    "    with open('qna_{}'.format(path), 'w') as f:\n",
    "        json.dump(new_data, f)"
   ]
  },
  {
   "cell_type": "code",
   "execution_count": 15,
   "metadata": {},
   "outputs": [
    {
     "name": "stdout",
     "output_type": "stream",
     "text": [
      "done test_webmd_squad_v2_full.json\n",
      "done train_webmd_squad_v2_consec.json\n",
      "done train_webmd_squad_v2_full.json\n",
      "done val_webmd_squad_v2_full.json\n",
      "done test_webmd_squad_v2_consec.json\n",
      "done val_webmd_squad_v2_consec.json\n"
     ]
    }
   ],
   "source": [
    "# make_json('test_webmd_squad_v2_consec.json')\n",
    "l = os.listdir('.')\n",
    "for i in l:\n",
    "    if i.endswith('.json') and not i.startswith('new'):\n",
    "        make_json(i)\n",
    "        print('done {}'.format(i))"
   ]
  }
 ],
 "metadata": {
  "kernelspec": {
   "display_name": "mr",
   "language": "python",
   "name": "python3"
  },
  "language_info": {
   "codemirror_mode": {
    "name": "ipython",
    "version": 3
   },
   "file_extension": ".py",
   "mimetype": "text/x-python",
   "name": "python",
   "nbconvert_exporter": "python",
   "pygments_lexer": "ipython3",
   "version": "3.8.18"
  }
 },
 "nbformat": 4,
 "nbformat_minor": 2
}
